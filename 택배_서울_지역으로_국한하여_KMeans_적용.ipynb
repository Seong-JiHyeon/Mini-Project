{
  "nbformat": 4,
  "nbformat_minor": 0,
  "metadata": {
    "colab": {
      "name": "택배 서울 지역으로 국한하여 KMeans 적용",
      "provenance": [],
      "collapsed_sections": [],
      "authorship_tag": "ABX9TyNEqDW9NfhHRURAYZDJELsQ",
      "include_colab_link": true
    },
    "kernelspec": {
      "name": "python3",
      "display_name": "Python 3"
    },
    "accelerator": "TPU"
  },
  "cells": [
    {
      "cell_type": "markdown",
      "metadata": {
        "id": "view-in-github",
        "colab_type": "text"
      },
      "source": [
        "<a href=\"https://colab.research.google.com/github/Seong-JiHyeon/Mini-Project/blob/master/%ED%83%9D%EB%B0%B0_%EC%84%9C%EC%9A%B8_%EC%A7%80%EC%97%AD%EC%9C%BC%EB%A1%9C_%EA%B5%AD%ED%95%9C%ED%95%98%EC%97%AC_KMeans_%EC%A0%81%EC%9A%A9.ipynb\" target=\"_parent\"><img src=\"https://colab.research.google.com/assets/colab-badge.svg\" alt=\"Open In Colab\"/></a>"
      ]
    },
    {
      "cell_type": "code",
      "metadata": {
        "id": "0ME5104YtUuQ",
        "colab": {
          "base_uri": "https://localhost:8080/"
        },
        "outputId": "62bb0408-36c4-4322-a812-d8eb36de2e88"
      },
      "source": [
        "from google.colab import drive\n",
        "\n",
        "drive.mount('/content/gdrive')"
      ],
      "execution_count": null,
      "outputs": [
        {
          "output_type": "stream",
          "text": [
            "Mounted at /content/gdrive\n"
          ],
          "name": "stdout"
        }
      ]
    },
    {
      "cell_type": "code",
      "metadata": {
        "id": "aKAOEqO6yNgt",
        "colab": {
          "base_uri": "https://localhost:8080/"
        },
        "outputId": "80ef7588-e7ce-49e3-fb78-3508644ad0a9"
      },
      "source": [
        "cd /content/gdrive/My Drive/택배 주소 데이터"
      ],
      "execution_count": null,
      "outputs": [
        {
          "output_type": "stream",
          "text": [
            "/content/gdrive/My Drive/택배 주소 데이터\n"
          ],
          "name": "stdout"
        }
      ]
    },
    {
      "cell_type": "code",
      "metadata": {
        "id": "X8skzVOqyPD1"
      },
      "source": [
        "import pandas as pd\n",
        "import numpy as np\n",
        "import matplotlib.pyplot as plt\n",
        "from sklearn.cluster import KMeans\n",
        "import seaborn as sns; sns.set()\n",
        "import csv"
      ],
      "execution_count": null,
      "outputs": []
    },
    {
      "cell_type": "code",
      "metadata": {
        "id": "5HWU3aEgyU-G",
        "colab": {
          "base_uri": "https://localhost:8080/"
        },
        "outputId": "c3146345-f6c3-4996-9742-40d4b946a26b"
      },
      "source": [
        "df = pd.read_csv('south_korea.csv')"
      ],
      "execution_count": null,
      "outputs": [
        {
          "output_type": "stream",
          "text": [
            "/usr/local/lib/python3.6/dist-packages/IPython/core/interactiveshell.py:2718: DtypeWarning: Columns (2,5,6,7,9) have mixed types.Specify dtype option on import or set low_memory=False.\n",
            "  interactivity=interactivity, compiler=compiler, result=result)\n"
          ],
          "name": "stderr"
        }
      ]
    },
    {
      "cell_type": "code",
      "metadata": {
        "id": "xC7kUdYnyaO2"
      },
      "source": [
        "df.drop(labels= 'UNIT', axis=1, inplace=True)"
      ],
      "execution_count": null,
      "outputs": []
    },
    {
      "cell_type": "code",
      "metadata": {
        "id": "ygKfZ36DyZSJ",
        "colab": {
          "base_uri": "https://localhost:8080/",
          "height": 195
        },
        "outputId": "eb47ee6c-4285-454e-8d78-b19fa28f76ad"
      },
      "source": [
        "df.head()"
      ],
      "execution_count": null,
      "outputs": [
        {
          "output_type": "execute_result",
          "data": {
            "text/html": [
              "<div>\n",
              "<style scoped>\n",
              "    .dataframe tbody tr th:only-of-type {\n",
              "        vertical-align: middle;\n",
              "    }\n",
              "\n",
              "    .dataframe tbody tr th {\n",
              "        vertical-align: top;\n",
              "    }\n",
              "\n",
              "    .dataframe thead th {\n",
              "        text-align: right;\n",
              "    }\n",
              "</style>\n",
              "<table border=\"1\" class=\"dataframe\">\n",
              "  <thead>\n",
              "    <tr style=\"text-align: right;\">\n",
              "      <th></th>\n",
              "      <th>LON</th>\n",
              "      <th>LAT</th>\n",
              "      <th>NUMBER</th>\n",
              "      <th>STREET</th>\n",
              "      <th>CITY</th>\n",
              "      <th>DISTRICT</th>\n",
              "      <th>REGION</th>\n",
              "      <th>POSTCODE</th>\n",
              "      <th>ID</th>\n",
              "      <th>HASH</th>\n",
              "    </tr>\n",
              "  </thead>\n",
              "  <tbody>\n",
              "    <tr>\n",
              "      <th>0</th>\n",
              "      <td>126.970405</td>\n",
              "      <td>37.584415</td>\n",
              "      <td>94</td>\n",
              "      <td>자하문로</td>\n",
              "      <td>종로구</td>\n",
              "      <td>청운동</td>\n",
              "      <td>서울특별시</td>\n",
              "      <td>3047.0</td>\n",
              "      <td>1111010100-760</td>\n",
              "      <td>31a06cfb755d9a77</td>\n",
              "    </tr>\n",
              "    <tr>\n",
              "      <th>1</th>\n",
              "      <td>126.970423</td>\n",
              "      <td>37.584513</td>\n",
              "      <td>96</td>\n",
              "      <td>자하문로</td>\n",
              "      <td>종로구</td>\n",
              "      <td>청운동</td>\n",
              "      <td>서울특별시</td>\n",
              "      <td>3047.0</td>\n",
              "      <td>1111010100-4933</td>\n",
              "      <td>7f2722bcd38a0488</td>\n",
              "    </tr>\n",
              "    <tr>\n",
              "      <th>2</th>\n",
              "      <td>126.970394</td>\n",
              "      <td>37.584697</td>\n",
              "      <td>98</td>\n",
              "      <td>자하문로</td>\n",
              "      <td>종로구</td>\n",
              "      <td>청운동</td>\n",
              "      <td>서울특별시</td>\n",
              "      <td>3047.0</td>\n",
              "      <td>1111010100-287</td>\n",
              "      <td>c5fcd0d5b8b2045c</td>\n",
              "    </tr>\n",
              "    <tr>\n",
              "      <th>3</th>\n",
              "      <td>126.969878</td>\n",
              "      <td>37.584916</td>\n",
              "      <td>99-3</td>\n",
              "      <td>자하문로</td>\n",
              "      <td>종로구</td>\n",
              "      <td>청운동</td>\n",
              "      <td>서울특별시</td>\n",
              "      <td>3032.0</td>\n",
              "      <td>1111010100-1336</td>\n",
              "      <td>8f31971e29cf77a8</td>\n",
              "    </tr>\n",
              "    <tr>\n",
              "      <th>4</th>\n",
              "      <td>126.969853</td>\n",
              "      <td>37.585080</td>\n",
              "      <td>99-4</td>\n",
              "      <td>자하문로</td>\n",
              "      <td>종로구</td>\n",
              "      <td>청운동</td>\n",
              "      <td>서울특별시</td>\n",
              "      <td>3032.0</td>\n",
              "      <td>1111010100-6021</td>\n",
              "      <td>67f93375ee07c754</td>\n",
              "    </tr>\n",
              "  </tbody>\n",
              "</table>\n",
              "</div>"
            ],
            "text/plain": [
              "          LON        LAT NUMBER  ... POSTCODE               ID              HASH\n",
              "0  126.970405  37.584415     94  ...   3047.0   1111010100-760  31a06cfb755d9a77\n",
              "1  126.970423  37.584513     96  ...   3047.0  1111010100-4933  7f2722bcd38a0488\n",
              "2  126.970394  37.584697     98  ...   3047.0   1111010100-287  c5fcd0d5b8b2045c\n",
              "3  126.969878  37.584916   99-3  ...   3032.0  1111010100-1336  8f31971e29cf77a8\n",
              "4  126.969853  37.585080   99-4  ...   3032.0  1111010100-6021  67f93375ee07c754\n",
              "\n",
              "[5 rows x 10 columns]"
            ]
          },
          "metadata": {
            "tags": []
          },
          "execution_count": 6
        }
      ]
    },
    {
      "cell_type": "code",
      "metadata": {
        "id": "5GPQNVRjyj14",
        "colab": {
          "base_uri": "https://localhost:8080/",
          "height": 195
        },
        "outputId": "a754dc96-9e43-48d3-ae8a-3c5dbbab4656"
      },
      "source": [
        "isseoul = df['REGION']=='서울특별시'\n",
        "seoul = df[isseoul]\n",
        "seoul.head()"
      ],
      "execution_count": null,
      "outputs": [
        {
          "output_type": "execute_result",
          "data": {
            "text/html": [
              "<div>\n",
              "<style scoped>\n",
              "    .dataframe tbody tr th:only-of-type {\n",
              "        vertical-align: middle;\n",
              "    }\n",
              "\n",
              "    .dataframe tbody tr th {\n",
              "        vertical-align: top;\n",
              "    }\n",
              "\n",
              "    .dataframe thead th {\n",
              "        text-align: right;\n",
              "    }\n",
              "</style>\n",
              "<table border=\"1\" class=\"dataframe\">\n",
              "  <thead>\n",
              "    <tr style=\"text-align: right;\">\n",
              "      <th></th>\n",
              "      <th>LON</th>\n",
              "      <th>LAT</th>\n",
              "      <th>NUMBER</th>\n",
              "      <th>STREET</th>\n",
              "      <th>CITY</th>\n",
              "      <th>DISTRICT</th>\n",
              "      <th>REGION</th>\n",
              "      <th>POSTCODE</th>\n",
              "      <th>ID</th>\n",
              "      <th>HASH</th>\n",
              "    </tr>\n",
              "  </thead>\n",
              "  <tbody>\n",
              "    <tr>\n",
              "      <th>0</th>\n",
              "      <td>126.970405</td>\n",
              "      <td>37.584415</td>\n",
              "      <td>94</td>\n",
              "      <td>자하문로</td>\n",
              "      <td>종로구</td>\n",
              "      <td>청운동</td>\n",
              "      <td>서울특별시</td>\n",
              "      <td>3047.0</td>\n",
              "      <td>1111010100-760</td>\n",
              "      <td>31a06cfb755d9a77</td>\n",
              "    </tr>\n",
              "    <tr>\n",
              "      <th>1</th>\n",
              "      <td>126.970423</td>\n",
              "      <td>37.584513</td>\n",
              "      <td>96</td>\n",
              "      <td>자하문로</td>\n",
              "      <td>종로구</td>\n",
              "      <td>청운동</td>\n",
              "      <td>서울특별시</td>\n",
              "      <td>3047.0</td>\n",
              "      <td>1111010100-4933</td>\n",
              "      <td>7f2722bcd38a0488</td>\n",
              "    </tr>\n",
              "    <tr>\n",
              "      <th>2</th>\n",
              "      <td>126.970394</td>\n",
              "      <td>37.584697</td>\n",
              "      <td>98</td>\n",
              "      <td>자하문로</td>\n",
              "      <td>종로구</td>\n",
              "      <td>청운동</td>\n",
              "      <td>서울특별시</td>\n",
              "      <td>3047.0</td>\n",
              "      <td>1111010100-287</td>\n",
              "      <td>c5fcd0d5b8b2045c</td>\n",
              "    </tr>\n",
              "    <tr>\n",
              "      <th>3</th>\n",
              "      <td>126.969878</td>\n",
              "      <td>37.584916</td>\n",
              "      <td>99-3</td>\n",
              "      <td>자하문로</td>\n",
              "      <td>종로구</td>\n",
              "      <td>청운동</td>\n",
              "      <td>서울특별시</td>\n",
              "      <td>3032.0</td>\n",
              "      <td>1111010100-1336</td>\n",
              "      <td>8f31971e29cf77a8</td>\n",
              "    </tr>\n",
              "    <tr>\n",
              "      <th>4</th>\n",
              "      <td>126.969853</td>\n",
              "      <td>37.585080</td>\n",
              "      <td>99-4</td>\n",
              "      <td>자하문로</td>\n",
              "      <td>종로구</td>\n",
              "      <td>청운동</td>\n",
              "      <td>서울특별시</td>\n",
              "      <td>3032.0</td>\n",
              "      <td>1111010100-6021</td>\n",
              "      <td>67f93375ee07c754</td>\n",
              "    </tr>\n",
              "  </tbody>\n",
              "</table>\n",
              "</div>"
            ],
            "text/plain": [
              "          LON        LAT NUMBER  ... POSTCODE               ID              HASH\n",
              "0  126.970405  37.584415     94  ...   3047.0   1111010100-760  31a06cfb755d9a77\n",
              "1  126.970423  37.584513     96  ...   3047.0  1111010100-4933  7f2722bcd38a0488\n",
              "2  126.970394  37.584697     98  ...   3047.0   1111010100-287  c5fcd0d5b8b2045c\n",
              "3  126.969878  37.584916   99-3  ...   3032.0  1111010100-1336  8f31971e29cf77a8\n",
              "4  126.969853  37.585080   99-4  ...   3032.0  1111010100-6021  67f93375ee07c754\n",
              "\n",
              "[5 rows x 10 columns]"
            ]
          },
          "metadata": {
            "tags": []
          },
          "execution_count": 7
        }
      ]
    },
    {
      "cell_type": "code",
      "metadata": {
        "id": "6R7veIRj2ODS",
        "colab": {
          "base_uri": "https://localhost:8080/"
        },
        "outputId": "fa892c45-2aa1-44e6-fb00-6d8b2519ad5a"
      },
      "source": [
        "seoul.dropna(axis=0,how='any',subset=['LON','LAT', 'POSTCODE'],inplace=True)"
      ],
      "execution_count": null,
      "outputs": [
        {
          "output_type": "stream",
          "text": [
            "/usr/local/lib/python3.6/dist-packages/ipykernel_launcher.py:1: SettingWithCopyWarning: \n",
            "A value is trying to be set on a copy of a slice from a DataFrame\n",
            "\n",
            "See the caveats in the documentation: https://pandas.pydata.org/pandas-docs/stable/user_guide/indexing.html#returning-a-view-versus-a-copy\n",
            "  \"\"\"Entry point for launching an IPython kernel.\n"
          ],
          "name": "stderr"
        }
      ]
    },
    {
      "cell_type": "code",
      "metadata": {
        "id": "_Jhx-TOC2SOu"
      },
      "source": [
        "seoul=seoul.sample(frac=1).reset_index(drop=True)"
      ],
      "execution_count": null,
      "outputs": []
    },
    {
      "cell_type": "code",
      "metadata": {
        "id": "FMdlEs2M2ZMC"
      },
      "source": [
        "X=seoul.loc[:,['NUMBER','LON','LAT', 'POSTCODE']]"
      ],
      "execution_count": null,
      "outputs": []
    },
    {
      "cell_type": "code",
      "metadata": {
        "id": "3m6AC6Uv2cuy"
      },
      "source": [
        "K_clusters = range(1,10) #택배 기사 수 \n",
        "kmeans = [KMeans(n_clusters=i) for i in K_clusters]\n",
        "Y_axis = seoul[['LAT']]\n",
        "X_axis = seoul[['LON']]\n",
        "score = [kmeans[i].fit(Y_axis).score(Y_axis) for i in range(len(kmeans))]"
      ],
      "execution_count": null,
      "outputs": []
    },
    {
      "cell_type": "code",
      "metadata": {
        "id": "D10LbZm_2gOI",
        "colab": {
          "base_uri": "https://localhost:8080/",
          "height": 301
        },
        "outputId": "18735c8e-62f4-4d14-f8d2-440e271485e2"
      },
      "source": [
        "# Visualize\n",
        "plt.plot(K_clusters, score)\n",
        "plt.xlabel('Number of Clusters')\n",
        "plt.ylabel('Score')\n",
        "plt.title('Elbow Curve')\n",
        "plt.show()"
      ],
      "execution_count": null,
      "outputs": [
        {
          "output_type": "display_data",
          "data": {
            "image/png": "[encoded data removed]",
            "text/plain": [
              "<Figure size 432x288 with 1 Axes>"
            ]
          },
          "metadata": {
            "tags": []
          }
        }
      ]
    },
    {
      "cell_type": "code",
      "metadata": {
        "id": "uFdOWQUJ21bd",
        "colab": {
          "base_uri": "https://localhost:8080/",
          "height": 343
        },
        "outputId": "11962751-c239-4147-a876-28d093964478"
      },
      "source": [
        "kmeans = KMeans(n_clusters = 3)\n",
        "kmeans.fit(X[X.columns[1:3]]) # Compute k-means clustering.\n",
        "X['cluster_label'] = kmeans.fit_predict(X[X.columns[1:3]])\n",
        "centers = kmeans.cluster_centers_ # Coordinates of cluster centers.\n",
        "labels = kmeans.predict(X[X.columns[1:3]]) # Labels of each point\n",
        "X.head(10)"
      ],
      "execution_count": null,
      "outputs": [
        {
          "output_type": "execute_result",
          "data": {
            "text/html": [
              "<div>\n",
              "<style scoped>\n",
              "    .dataframe tbody tr th:only-of-type {\n",
              "        vertical-align: middle;\n",
              "    }\n",
              "\n",
              "    .dataframe tbody tr th {\n",
              "        vertical-align: top;\n",
              "    }\n",
              "\n",
              "    .dataframe thead th {\n",
              "        text-align: right;\n",
              "    }\n",
              "</style>\n",
              "<table border=\"1\" class=\"dataframe\">\n",
              "  <thead>\n",
              "    <tr style=\"text-align: right;\">\n",
              "      <th></th>\n",
              "      <th>NUMBER</th>\n",
              "      <th>LON</th>\n",
              "      <th>LAT</th>\n",
              "      <th>POSTCODE</th>\n",
              "      <th>cluster_label</th>\n",
              "    </tr>\n",
              "  </thead>\n",
              "  <tbody>\n",
              "    <tr>\n",
              "      <th>0</th>\n",
              "      <td>16-3</td>\n",
              "      <td>127.081368</td>\n",
              "      <td>37.564136</td>\n",
              "      <td>4910.0</td>\n",
              "      <td>0</td>\n",
              "    </tr>\n",
              "    <tr>\n",
              "      <th>1</th>\n",
              "      <td>6-6</td>\n",
              "      <td>126.963096</td>\n",
              "      <td>37.548669</td>\n",
              "      <td>4311.0</td>\n",
              "      <td>2</td>\n",
              "    </tr>\n",
              "    <tr>\n",
              "      <th>2</th>\n",
              "      <td>7-4</td>\n",
              "      <td>126.903827</td>\n",
              "      <td>37.524947</td>\n",
              "      <td>7245.0</td>\n",
              "      <td>2</td>\n",
              "    </tr>\n",
              "    <tr>\n",
              "      <th>3</th>\n",
              "      <td>20</td>\n",
              "      <td>126.929556</td>\n",
              "      <td>37.479404</td>\n",
              "      <td>8775.0</td>\n",
              "      <td>2</td>\n",
              "    </tr>\n",
              "    <tr>\n",
              "      <th>4</th>\n",
              "      <td>54</td>\n",
              "      <td>126.841793</td>\n",
              "      <td>37.533939</td>\n",
              "      <td>7768.0</td>\n",
              "      <td>2</td>\n",
              "    </tr>\n",
              "    <tr>\n",
              "      <th>5</th>\n",
              "      <td>122-1</td>\n",
              "      <td>127.033524</td>\n",
              "      <td>37.608447</td>\n",
              "      <td>2737.0</td>\n",
              "      <td>1</td>\n",
              "    </tr>\n",
              "    <tr>\n",
              "      <th>6</th>\n",
              "      <td>43-5</td>\n",
              "      <td>127.092158</td>\n",
              "      <td>37.586023</td>\n",
              "      <td>2207.0</td>\n",
              "      <td>0</td>\n",
              "    </tr>\n",
              "    <tr>\n",
              "      <th>7</th>\n",
              "      <td>60</td>\n",
              "      <td>126.989010</td>\n",
              "      <td>37.536939</td>\n",
              "      <td>4351.0</td>\n",
              "      <td>1</td>\n",
              "    </tr>\n",
              "    <tr>\n",
              "      <th>8</th>\n",
              "      <td>10-13</td>\n",
              "      <td>127.128317</td>\n",
              "      <td>37.533960</td>\n",
              "      <td>5383.0</td>\n",
              "      <td>0</td>\n",
              "    </tr>\n",
              "    <tr>\n",
              "      <th>9</th>\n",
              "      <td>8-10</td>\n",
              "      <td>126.918883</td>\n",
              "      <td>37.593358</td>\n",
              "      <td>3467.0</td>\n",
              "      <td>2</td>\n",
              "    </tr>\n",
              "  </tbody>\n",
              "</table>\n",
              "</div>"
            ],
            "text/plain": [
              "  NUMBER         LON        LAT  POSTCODE  cluster_label\n",
              "0   16-3  127.081368  37.564136    4910.0              0\n",
              "1    6-6  126.963096  37.548669    4311.0              2\n",
              "2    7-4  126.903827  37.524947    7245.0              2\n",
              "3     20  126.929556  37.479404    8775.0              2\n",
              "4     54  126.841793  37.533939    7768.0              2\n",
              "5  122-1  127.033524  37.608447    2737.0              1\n",
              "6   43-5  127.092158  37.586023    2207.0              0\n",
              "7     60  126.989010  37.536939    4351.0              1\n",
              "8  10-13  127.128317  37.533960    5383.0              0\n",
              "9   8-10  126.918883  37.593358    3467.0              2"
            ]
          },
          "metadata": {
            "tags": []
          },
          "execution_count": 105
        }
      ]
    },
    {
      "cell_type": "code",
      "metadata": {
        "id": "hsK8PLR52-O3",
        "colab": {
          "base_uri": "https://localhost:8080/",
          "height": 276
        },
        "outputId": "e0f0371a-3d3e-403b-81f2-cc43a15f4961"
      },
      "source": [
        "X.plot.scatter(x = 'LON', y = 'LAT', c=labels, s=50, cmap='viridis')\n",
        "plt.scatter(centers[:, 0], centers[:, 1], c='black', s=200, alpha=0.5)"
      ],
      "execution_count": null,
      "outputs": [
        {
          "output_type": "execute_result",
          "data": {
            "text/plain": [
              "<matplotlib.collections.PathCollection at 0x7f786908afd0>"
            ]
          },
          "metadata": {
            "tags": []
          },
          "execution_count": 107
        },
        {
          "output_type": "display_data",
          "data": {
            "image/png": "[encoded data removed]",
            "text/plain": [
              "<Figure size 432x288 with 2 Axes>"
            ]
          },
          "metadata": {
            "tags": []
          }
        }
      ]
    },
    {
      "cell_type": "markdown",
      "metadata": {
        "id": "zXBGIHR-3qKe"
      },
      "source": [
        "\n",
        "\n",
        "---\n",
        "train test split\n",
        "\n",
        "-> 택배 물량을 랜덤하게 하여 clustering 할 때 정확히 지역별로 나눠짐을 볼 수 있음\n",
        "\n",
        "-> 하지만 변곡점 이상으로 분류할 경우 택배 물량이 균등하지 않음 (택배 기사의 수는 항상 변곡점보다 클 가능성이 매우 높음)\n",
        "\n",
        "-> kmeans는 euclidean으로 거리 계산을 하기 때문에 넓은 범위의 위도와 경도에서는 맞지 않을 수 있지만, 대한민국의 특히 작은 지역을 계산할 때는 범위가 줄어들어 euclidean 거리 계산이 적합함\n",
        "\n",
        "-> 택배를 운송해야 하는 범위가 집약적으로 나타남\n",
        "\n",
        "-> 자율 주행 자동차를 사용한다면? / 사람이 운송한다면?\n",
        "\n"
      ]
    },
    {
      "cell_type": "code",
      "metadata": {
        "id": "EuOlltw_3mdK"
      },
      "source": [
        "from sklearn.model_selection import train_test_split"
      ],
      "execution_count": null,
      "outputs": []
    },
    {
      "cell_type": "code",
      "metadata": {
        "id": "b1t0NlNFFCGb",
        "colab": {
          "base_uri": "https://localhost:8080/"
        },
        "outputId": "a9a61f9a-b204-4b0e-d251-b31c797187c0"
      },
      "source": [
        "len(X)"
      ],
      "execution_count": null,
      "outputs": [
        {
          "output_type": "execute_result",
          "data": {
            "text/plain": [
              "573174"
            ]
          },
          "metadata": {
            "tags": []
          },
          "execution_count": 65
        }
      ]
    },
    {
      "cell_type": "code",
      "metadata": {
        "id": "TjR7ePYHFGkj",
        "colab": {
          "base_uri": "https://localhost:8080/"
        },
        "outputId": "b5398c8e-eee2-4da1-c959-8bdfab725be3"
      },
      "source": [
        "573174*0.1"
      ],
      "execution_count": null,
      "outputs": [
        {
          "output_type": "execute_result",
          "data": {
            "text/plain": [
              "57317.4"
            ]
          },
          "metadata": {
            "tags": []
          },
          "execution_count": 66
        }
      ]
    },
    {
      "cell_type": "code",
      "metadata": {
        "id": "oNRM_fXoFKlM",
        "colab": {
          "base_uri": "https://localhost:8080/"
        },
        "outputId": "9ec0a0c2-3846-479f-9a0e-50d3c31cdb94"
      },
      "source": [
        "57317.4/250"
      ],
      "execution_count": null,
      "outputs": [
        {
          "output_type": "execute_result",
          "data": {
            "text/plain": [
              "229.2696"
            ]
          },
          "metadata": {
            "tags": []
          },
          "execution_count": 69
        }
      ]
    },
    {
      "cell_type": "code",
      "metadata": {
        "id": "Wzvd7pfJ3n2j"
      },
      "source": [
        "X_train, X_test = train_test_split(X, test_size=0.9, random_state=1004)"
      ],
      "execution_count": null,
      "outputs": []
    },
    {
      "cell_type": "code",
      "metadata": {
        "id": "DLN6xq0G6jOh",
        "colab": {
          "base_uri": "https://localhost:8080/",
          "height": 449
        },
        "outputId": "f7ffcf4d-8852-407e-a80c-8481c59c8f46"
      },
      "source": [
        "kmeans = KMeans(n_clusters = 250)\n",
        "kmeans.fit(X_train[X_train.columns[1:3]]) # Compute k-means clustering.\n",
        "X_train['cluster_label'] = kmeans.fit_predict(X_train[X_train.columns[1:3]])\n",
        "centers = kmeans.cluster_centers_ # Coordinates of cluster centers.\n",
        "labels = kmeans.predict(X_train[X_train.columns[1:3]]) # Labels of each point\n",
        "X_train.head(10)"
      ],
      "execution_count": null,
      "outputs": [
        {
          "output_type": "stream",
          "text": [
            "/usr/local/lib/python3.6/dist-packages/ipykernel_launcher.py:3: SettingWithCopyWarning: \n",
            "A value is trying to be set on a copy of a slice from a DataFrame.\n",
            "Try using .loc[row_indexer,col_indexer] = value instead\n",
            "\n",
            "See the caveats in the documentation: https://pandas.pydata.org/pandas-docs/stable/user_guide/indexing.html#returning-a-view-versus-a-copy\n",
            "  This is separate from the ipykernel package so we can avoid doing imports until\n"
          ],
          "name": "stderr"
        },
        {
          "output_type": "execute_result",
          "data": {
            "text/html": [
              "<div>\n",
              "<style scoped>\n",
              "    .dataframe tbody tr th:only-of-type {\n",
              "        vertical-align: middle;\n",
              "    }\n",
              "\n",
              "    .dataframe tbody tr th {\n",
              "        vertical-align: top;\n",
              "    }\n",
              "\n",
              "    .dataframe thead th {\n",
              "        text-align: right;\n",
              "    }\n",
              "</style>\n",
              "<table border=\"1\" class=\"dataframe\">\n",
              "  <thead>\n",
              "    <tr style=\"text-align: right;\">\n",
              "      <th></th>\n",
              "      <th>NUMBER</th>\n",
              "      <th>LON</th>\n",
              "      <th>LAT</th>\n",
              "      <th>POSTCODE</th>\n",
              "      <th>cluster_label</th>\n",
              "    </tr>\n",
              "  </thead>\n",
              "  <tbody>\n",
              "    <tr>\n",
              "      <th>313785</th>\n",
              "      <td>51-12</td>\n",
              "      <td>127.081103</td>\n",
              "      <td>37.568216</td>\n",
              "      <td>4905.0</td>\n",
              "      <td>110</td>\n",
              "    </tr>\n",
              "    <tr>\n",
              "      <th>124092</th>\n",
              "      <td>20</td>\n",
              "      <td>127.082135</td>\n",
              "      <td>37.592832</td>\n",
              "      <td>2139.0</td>\n",
              "      <td>61</td>\n",
              "    </tr>\n",
              "    <tr>\n",
              "      <th>5445</th>\n",
              "      <td>1</td>\n",
              "      <td>127.090823</td>\n",
              "      <td>37.581114</td>\n",
              "      <td>2213.0</td>\n",
              "      <td>206</td>\n",
              "    </tr>\n",
              "    <tr>\n",
              "      <th>254804</th>\n",
              "      <td>42</td>\n",
              "      <td>127.033162</td>\n",
              "      <td>37.669773</td>\n",
              "      <td>1314.0</td>\n",
              "      <td>26</td>\n",
              "    </tr>\n",
              "    <tr>\n",
              "      <th>559312</th>\n",
              "      <td>42</td>\n",
              "      <td>127.081045</td>\n",
              "      <td>37.605987</td>\n",
              "      <td>2046.0</td>\n",
              "      <td>62</td>\n",
              "    </tr>\n",
              "    <tr>\n",
              "      <th>383779</th>\n",
              "      <td>24-4</td>\n",
              "      <td>127.024344</td>\n",
              "      <td>37.626864</td>\n",
              "      <td>1125.0</td>\n",
              "      <td>219</td>\n",
              "    </tr>\n",
              "    <tr>\n",
              "      <th>339401</th>\n",
              "      <td>40-13</td>\n",
              "      <td>127.014173</td>\n",
              "      <td>37.642660</td>\n",
              "      <td>1033.0</td>\n",
              "      <td>94</td>\n",
              "    </tr>\n",
              "    <tr>\n",
              "      <th>473287</th>\n",
              "      <td>8-13</td>\n",
              "      <td>127.108580</td>\n",
              "      <td>37.601665</td>\n",
              "      <td>2063.0</td>\n",
              "      <td>109</td>\n",
              "    </tr>\n",
              "    <tr>\n",
              "      <th>137088</th>\n",
              "      <td>35</td>\n",
              "      <td>126.981927</td>\n",
              "      <td>37.497463</td>\n",
              "      <td>6994.0</td>\n",
              "      <td>137</td>\n",
              "    </tr>\n",
              "    <tr>\n",
              "      <th>65794</th>\n",
              "      <td>25-9</td>\n",
              "      <td>127.069306</td>\n",
              "      <td>37.657230</td>\n",
              "      <td>1697.0</td>\n",
              "      <td>54</td>\n",
              "    </tr>\n",
              "  </tbody>\n",
              "</table>\n",
              "</div>"
            ],
            "text/plain": [
              "       NUMBER         LON        LAT  POSTCODE  cluster_label\n",
              "313785  51-12  127.081103  37.568216    4905.0            110\n",
              "124092     20  127.082135  37.592832    2139.0             61\n",
              "5445        1  127.090823  37.581114    2213.0            206\n",
              "254804     42  127.033162  37.669773    1314.0             26\n",
              "559312     42  127.081045  37.605987    2046.0             62\n",
              "383779   24-4  127.024344  37.626864    1125.0            219\n",
              "339401  40-13  127.014173  37.642660    1033.0             94\n",
              "473287   8-13  127.108580  37.601665    2063.0            109\n",
              "137088     35  126.981927  37.497463    6994.0            137\n",
              "65794    25-9  127.069306  37.657230    1697.0             54"
            ]
          },
          "metadata": {
            "tags": []
          },
          "execution_count": 129
        }
      ]
    },
    {
      "cell_type": "code",
      "metadata": {
        "id": "P75bRac16360",
        "colab": {
          "base_uri": "https://localhost:8080/",
          "height": 273
        },
        "outputId": "17d41247-7e2c-4c67-8e9c-a81c718f3003"
      },
      "source": [
        "X_train.plot.scatter(x = 'LON', y = 'LAT', c=labels, s=1, cmap='viridis')\n",
        "plt.scatter(centers[:, 0], centers[:, 1], c='black', s=0.01, alpha=0.5)"
      ],
      "execution_count": null,
      "outputs": [
        {
          "output_type": "execute_result",
          "data": {
            "text/plain": [
              "<matplotlib.collections.PathCollection at 0x7f78690dc588>"
            ]
          },
          "metadata": {
            "tags": []
          },
          "execution_count": 109
        },
        {
          "output_type": "display_data",
          "data": {
            "image/png": "[encoded data removed]",
            "text/plain": [
              "<Figure size 432x288 with 2 Axes>"
            ]
          },
          "metadata": {
            "tags": []
          }
        }
      ]
    },
    {
      "cell_type": "code",
      "metadata": {
        "id": "zttLOgMGKhH1",
        "colab": {
          "base_uri": "https://localhost:8080/"
        },
        "outputId": "2a982acf-96b0-4e6d-bdaa-536f35a7c7b8"
      },
      "source": [
        "iszero = X_train['cluster_label']==247\n",
        "zero = X_train[iszero]\n",
        "len(zero)"
      ],
      "execution_count": null,
      "outputs": [
        {
          "output_type": "execute_result",
          "data": {
            "text/plain": [
              "469"
            ]
          },
          "metadata": {
            "tags": []
          },
          "execution_count": 135
        }
      ]
    },
    {
      "cell_type": "code",
      "metadata": {
        "id": "CctI52RpLfxI",
        "colab": {
          "base_uri": "https://localhost:8080/",
          "height": 351
        },
        "outputId": "eb5dfdbb-23dd-4e10-f05c-0b8eab839cf8"
      },
      "source": [
        "X_train[iszero].plot.scatter(x = 'LON', y = 'LAT', s=10, cmap='viridis')"
      ],
      "execution_count": null,
      "outputs": [
        {
          "output_type": "stream",
          "text": [
            "*c* argument looks like a single numeric RGB or RGBA sequence, which should be avoided as value-mapping will have precedence in case its length matches with *x* & *y*.  Please use the *color* keyword-argument or provide a 2-D array with a single row if you intend to specify the same RGB or RGBA value for all points.\n"
          ],
          "name": "stderr"
        },
        {
          "output_type": "execute_result",
          "data": {
            "text/plain": [
              "<matplotlib.axes._subplots.AxesSubplot at 0x7f7868aeaac8>"
            ]
          },
          "metadata": {
            "tags": []
          },
          "execution_count": 137
        },
        {
          "output_type": "display_data",
          "data": {
            "image/png": "[encoded data removed]",
            "text/plain": [
              "<Figure size 432x288 with 1 Axes>"
            ]
          },
          "metadata": {
            "tags": []
          }
        }
      ]
    },
    {
      "cell_type": "code",
      "metadata": {
        "id": "ZE718msL9dl6",
        "colab": {
          "base_uri": "https://localhost:8080/"
        },
        "outputId": "8deb6600-b39e-4d09-e391-cf65239427b5"
      },
      "source": [
        "X_train['cluster_label'].value_counts()"
      ],
      "execution_count": null,
      "outputs": [
        {
          "output_type": "execute_result",
          "data": {
            "text/plain": [
              "247    469\n",
              "50     456\n",
              "111    421\n",
              "55     416\n",
              "236    395\n",
              "      ... \n",
              "232     36\n",
              "204     32\n",
              "128     27\n",
              "240     24\n",
              "150     22\n",
              "Name: cluster_label, Length: 250, dtype: int64"
            ]
          },
          "metadata": {
            "tags": []
          },
          "execution_count": 130
        }
      ]
    },
    {
      "cell_type": "code",
      "metadata": {
        "id": "LfLNN-YSHxYu"
      },
      "source": [
        "X_train.to_csv('deliver.csv', sep=',', na_rep='NaN')"
      ],
      "execution_count": null,
      "outputs": []
    }
  ]
}